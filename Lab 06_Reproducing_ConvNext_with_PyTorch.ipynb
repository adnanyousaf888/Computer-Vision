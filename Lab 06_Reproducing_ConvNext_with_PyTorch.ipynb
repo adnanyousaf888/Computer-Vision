{
  "nbformat": 4,
  "nbformat_minor": 0,
  "metadata": {
    "colab": {
      "provenance": []
    },
    "kernelspec": {
      "name": "python3",
      "display_name": "Python 3"
    },
    "language_info": {
      "name": "python"
    }
  },
  "cells": [
    {
      "cell_type": "code",
      "execution_count": 53,
      "metadata": {
        "id": "cS7hwrsWtgTo"
      },
      "outputs": [],
      "source": [
        "from torch import nn\n",
        "from torch import Tensor\n",
        "from typing import List\n",
        "\n",
        "class ConvNormAct(nn.Sequential):\n",
        "    \"\"\"\n",
        "    A little util layer composed by (conv) -> (norm) -> (act) layers.\n",
        "    \"\"\"\n",
        "    def __init__(\n",
        "        self,\n",
        "        in_features: int,\n",
        "        out_features: int,\n",
        "        kernel_size: int,\n",
        "        norm = nn.BatchNorm2d,\n",
        "        act = nn.ReLU,\n",
        "        **kwargs\n",
        "    ):\n",
        "        super().__init__(\n",
        "            nn.Conv2d(\n",
        "                in_features,\n",
        "                out_features,\n",
        "                kernel_size=kernel_size,\n",
        "                padding=kernel_size // 2,\n",
        "                **kwargs\n",
        "            ),\n",
        "            norm(out_features),\n",
        "            act(),\n",
        "        )\n",
        "\n",
        "from torchvision.ops import StochasticDepth\n",
        "\n",
        "class LayerScaler(nn.Module):\n",
        "    def __init__(self, init_value: float, dimensions: int):\n",
        "        super().__init__()\n",
        "        self.gamma = nn.Parameter(init_value * torch.ones((dimensions)),\n",
        "                                    requires_grad=True)\n",
        "\n",
        "    def forward(self, x):\n",
        "        return self.gamma[None,...,None,None] * x\n",
        "\n",
        "class BottleNeckBlock(nn.Module):\n",
        "    def __init__(\n",
        "        self,\n",
        "        in_features: int,\n",
        "        out_features: int,\n",
        "        expansion: int = 4,\n",
        "        drop_p: float = .0,\n",
        "        layer_scaler_init_value: float = 1e-6,\n",
        "    ):\n",
        "        super().__init__()\n",
        "        expanded_features = out_features * expansion\n",
        "        self.block = nn.Sequential(\n",
        "            # narrow -> wide (with depth-wise and bigger kernel)\n",
        "            nn.Conv2d(\n",
        "                in_features, in_features, kernel_size=7, padding=3, bias=False, groups=in_features\n",
        "            ),\n",
        "            # GroupNorm with num_groups=1 is the same as LayerNorm but works for 2D data\n",
        "            nn.GroupNorm(num_groups=1, num_channels=in_features),\n",
        "            # wide -> wide\n",
        "            nn.Conv2d(in_features, expanded_features, kernel_size=1),\n",
        "            nn.GELU(),\n",
        "            # wide -> narrow\n",
        "            nn.Conv2d(expanded_features, out_features, kernel_size=1),\n",
        "        )\n",
        "        self.layer_scaler = LayerScaler(layer_scaler_init_value, out_features)\n",
        "        self.drop_path = StochasticDepth(drop_p, mode=\"batch\")\n",
        "\n",
        "\n",
        "    def forward(self, x: Tensor) -> Tensor:\n",
        "        res = x\n",
        "        x = self.block(x)\n",
        "        x = self.layer_scaler(x)\n",
        "        x = self.drop_path(x)\n",
        "        x += res\n",
        "        return x"
      ]
    },
    {
      "cell_type": "code",
      "source": [
        "# import torch\n",
        "# x = torch.rand(1, 32, 7, 7)\n",
        "# block = BottleNeckBlock(32, 64)\n",
        "# block(x).shape"
      ],
      "metadata": {
        "id": "Vzk2CbJqti7n"
      },
      "execution_count": 54,
      "outputs": []
    },
    {
      "cell_type": "code",
      "source": [
        "# class ConvNexStage(nn.Sequential):\n",
        "#     def __init__(\n",
        "#         self, in_features: int, out_features: int, depth: int, stride: int = 2, **kwargs\n",
        "#     ):\n",
        "#         super().__init__(\n",
        "#             # downsample is done here\n",
        "#             BottleNeckBlock(in_features, out_features, stride=stride, **kwargs),\n",
        "#             *[\n",
        "#                 BottleNeckBlock(out_features, out_features, **kwargs)\n",
        "#                 for _ in range(depth - 1)\n",
        "#             ],\n",
        "#         )\n",
        "\n",
        "\n",
        "class ConvNexStage(nn.Sequential):\n",
        "    def __init__(\n",
        "        self, in_features: int, out_features: int, depth: int, **kwargs\n",
        "    ):\n",
        "        super().__init__(\n",
        "            # add the downsampler\n",
        "            nn.Sequential(\n",
        "                nn.GroupNorm(num_groups=1, num_channels=in_features),\n",
        "                nn.Conv2d(in_features, out_features, kernel_size=2, stride=2)\n",
        "            ),\n",
        "            *[\n",
        "                BottleNeckBlock(out_features, out_features, **kwargs)\n",
        "                for _ in range(depth)\n",
        "            ],\n",
        "        )"
      ],
      "metadata": {
        "id": "rspi-mmPtlSE"
      },
      "execution_count": 55,
      "outputs": []
    },
    {
      "cell_type": "code",
      "source": [
        "# stage = ConvNexStage(32, 64, depth=2)\n",
        "# stage(x).shape\n",
        "\n",
        "# stage = ConvNexStage(32, 62, depth=1)\n",
        "# stage(torch.randn(1, 32, 14, 14)).shape\n",
        "\n",
        "stage = ConvNexStage(32, 62, depth=1)\n",
        "stage(torch.randn(1, 32, 14, 14)).shape"
      ],
      "metadata": {
        "colab": {
          "base_uri": "https://localhost:8080/"
        },
        "id": "ghGYZfrhtmP4",
        "outputId": "30e4452d-9164-4c89-a61f-7e91a2b676de"
      },
      "execution_count": 56,
      "outputs": [
        {
          "output_type": "execute_result",
          "data": {
            "text/plain": [
              "torch.Size([1, 62, 7, 7])"
            ]
          },
          "metadata": {},
          "execution_count": 56
        }
      ]
    },
    {
      "cell_type": "code",
      "source": [
        "# class ConvNextStem(nn.Sequential):\n",
        "#     def __init__(self, in_features: int, out_features: int):\n",
        "#         super().__init__(\n",
        "#             ConvNormAct(\n",
        "#                 in_features, out_features, kernel_size=7, stride=2\n",
        "#             ),\n",
        "#             nn.MaxPool2d(kernel_size=3, stride=2, padding=1),\n",
        "#         )\n",
        "\n",
        "\n",
        "class ConvNextStem(nn.Sequential):\n",
        "    def __init__(self, in_features: int, out_features: int):\n",
        "        super().__init__(\n",
        "            nn.Conv2d(in_features, out_features, kernel_size=4, stride=4),\n",
        "            nn.BatchNorm2d(out_features)\n",
        "        )"
      ],
      "metadata": {
        "id": "PW_1H8mTtnj_"
      },
      "execution_count": 57,
      "outputs": []
    },
    {
      "cell_type": "code",
      "source": [
        "# class ConvNextEncoder(nn.Module):\n",
        "#     def __init__(\n",
        "#         self,\n",
        "#         in_channels: int,\n",
        "#         stem_features: int,\n",
        "#         depths: List[int],\n",
        "#         widths: List[int],\n",
        "#     ):\n",
        "#         super().__init__()\n",
        "#         self.stem = ConvNextStem(in_channels, stem_features)\n",
        "\n",
        "#         in_out_widths = list(zip(widths, widths[1:]))\n",
        "\n",
        "#         self.stages = nn.ModuleList(\n",
        "#             [\n",
        "#                 ConvNexStage(stem_features, widths[0], depths[0], stride=1),\n",
        "#                 *[\n",
        "#                     ConvNexStage(in_features, out_features, depth)\n",
        "#                     for (in_features, out_features), depth in zip(\n",
        "#                         in_out_widths, depths[1:]\n",
        "#                     )\n",
        "#                 ],\n",
        "#             ]\n",
        "#         )\n",
        "\n",
        "#     def forward(self, x):\n",
        "#         x = self.stem(x)\n",
        "#         for stage in self.stages:\n",
        "#             x = stage(x)\n",
        "#         return x\n",
        "\n",
        "class ConvNextEncoder(nn.Module):\n",
        "    def __init__(\n",
        "        self,\n",
        "        in_channels: int,\n",
        "        stem_features: int,\n",
        "        depths: List[int],\n",
        "        widths: List[int],\n",
        "        drop_p: float = .0,\n",
        "    ):\n",
        "        super().__init__()\n",
        "        self.stem = ConvNextStem(in_channels, stem_features)\n",
        "\n",
        "        in_out_widths = list(zip(widths, widths[1:]))\n",
        "        # create drop paths probabilities (one for each stage)\n",
        "        drop_probs = [x.item() for x in torch.linspace(0, drop_p, sum(depths))]\n",
        "\n",
        "        self.stages = nn.ModuleList(\n",
        "            [\n",
        "                ConvNexStage(stem_features, widths[0], depths[0], drop_p=drop_probs[0]),\n",
        "                *[\n",
        "                    ConvNexStage(in_features, out_features, depth, drop_p=drop_p)\n",
        "                    for (in_features, out_features), depth, drop_p in zip(\n",
        "                        in_out_widths, depths[1:], drop_probs[1:]\n",
        "                    )\n",
        "                ],\n",
        "            ]\n",
        "        )\n",
        "\n",
        "\n",
        "    def forward(self, x):\n",
        "        x = self.stem(x)\n",
        "        for stage in self.stages:\n",
        "            x = stage(x)\n",
        "        return x"
      ],
      "metadata": {
        "id": "tmzOGGEqtoq8"
      },
      "execution_count": 58,
      "outputs": []
    },
    {
      "cell_type": "code",
      "source": [
        "#image = torch.rand(1, 3, 224, 224)\n",
        "#encoder = ConvNextEncoder(in_channels=3, stem_features=64, depths=[3,4,6,4], widths=[256, 512, 1024, 2048])\n",
        "\n",
        "# encoder = ConvNextEncoder(in_channels=3, stem_features=64, depths=[3,3,9,3], widths=[256, 512, 1024, 2048])\n",
        "# encoder(image).shape\n",
        "\n",
        "image = torch.rand(1, 3, 224, 224)\n",
        "encoder = ConvNextEncoder(in_channels=3, stem_features=64, depths=[3,4,6,4], widths=[256, 512, 1024, 2048])\n",
        "encoder(image).shape"
      ],
      "metadata": {
        "colab": {
          "base_uri": "https://localhost:8080/"
        },
        "id": "Ngyvdc7EtrUr",
        "outputId": "47a080f2-88b3-45a6-ee71-06917f6e2628"
      },
      "execution_count": 61,
      "outputs": [
        {
          "output_type": "execute_result",
          "data": {
            "text/plain": [
              "torch.Size([1, 2048, 3, 3])"
            ]
          },
          "metadata": {},
          "execution_count": 61
        }
      ]
    },
    {
      "cell_type": "code",
      "source": [
        "class ClassificationHead(nn.Sequential):\n",
        "    def __init__(self, num_channels: int, num_classes: int = 1000):\n",
        "        super().__init__(\n",
        "            nn.AdaptiveAvgPool2d((1, 1)),\n",
        "            nn.Flatten(1),\n",
        "            nn.LayerNorm(num_channels),\n",
        "            nn.Linear(num_channels, num_classes)\n",
        "        )\n",
        "\n",
        "\n",
        "class ConvNextForImageClassification(nn.Sequential):\n",
        "    def __init__(self,\n",
        "                 in_channels: int,\n",
        "                 stem_features: int,\n",
        "                 depths: List[int],\n",
        "                 widths: List[int],\n",
        "                 drop_p: float = .0,\n",
        "                 num_classes: int = 1000):\n",
        "        super().__init__()\n",
        "        self.encoder = ConvNextEncoder(in_channels, stem_features, depths, widths, drop_p)\n",
        "        self.head = ClassificationHead(widths[-1], num_classes)"
      ],
      "metadata": {
        "id": "B6RYV6IztsZ6"
      },
      "execution_count": 62,
      "outputs": []
    },
    {
      "cell_type": "code",
      "source": [
        "image = torch.rand(1, 3, 224, 224)\n",
        "classifier = ConvNextForImageClassification(in_channels=3, stem_features=64, depths=[3,4,6,4], widths=[256, 512, 1024, 2048])\n",
        "classifier(image).shape"
      ],
      "metadata": {
        "colab": {
          "base_uri": "https://localhost:8080/"
        },
        "id": "KuW7tmlwxQdK",
        "outputId": "7f10512d-2fd0-4ae1-ade3-87a35e41bdb5"
      },
      "execution_count": 63,
      "outputs": [
        {
          "output_type": "execute_result",
          "data": {
            "text/plain": [
              "torch.Size([1, 1000])"
            ]
          },
          "metadata": {},
          "execution_count": 63
        }
      ]
    },
    {
      "cell_type": "code",
      "source": [],
      "metadata": {
        "id": "UqDucsHLxTOq"
      },
      "execution_count": null,
      "outputs": []
    }
  ]
}