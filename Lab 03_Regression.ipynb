{
  "nbformat": 4,
  "nbformat_minor": 0,
  "metadata": {
    "colab": {
      "provenance": []
    },
    "kernelspec": {
      "name": "python3",
      "display_name": "Python 3"
    },
    "language_info": {
      "name": "python"
    }
  },
  "cells": [
    {
      "cell_type": "markdown",
      "source": [
        "**Task 1 and 2**"
      ],
      "metadata": {
        "id": "uN4cQUrXp8sh"
      }
    },
    {
      "cell_type": "code",
      "source": [
        "import torch\n",
        "import torch.nn as nn\n",
        "import torch.optim as optim\n",
        "import torchvision\n",
        "import torchvision.transforms as transforms"
      ],
      "metadata": {
        "id": "RJ8bw_LRmGYs"
      },
      "execution_count": 44,
      "outputs": []
    },
    {
      "cell_type": "code",
      "source": [
        "def relationship(y):\n",
        "    return y**3 + y**2 - y - 1\n",
        "\n",
        "#neural network with one linear layer\n",
        "class Net_model(nn.Module):\n",
        "    def __init__(self):\n",
        "        super(Net_model, self).__init__()\n",
        "        self.fc = nn.Linear(1, 1)\n",
        "\n",
        "    def forward(self, i):\n",
        "        return self.fc(i)\n",
        "#instance\n",
        "model = Net_model()\n",
        "criterion = nn.MSELoss()\n",
        "optimizer = optim.SGD(model.parameters(), lr=0.001)\n",
        "\n",
        "# Training loop\n",
        "epochs = 10\n",
        "for epoch in range(epochs):\n",
        "    z = torch.randn(1, requires_grad=True)\n",
        "    y_pred_val = model(z)\n",
        "\n",
        "    y_true_val = relationship(z)\n",
        "    loss = criterion(y_pred_val, y_true_val)\n",
        "    optimizer.zero_grad()\n",
        "    loss.backward()\n",
        "    optimizer.step()\n",
        "\n",
        "# Saving gradients and weights\n",
        "gradients = z.grad.item()\n",
        "weights = model.fc.weight.data.item()\n",
        "\n",
        "#at 100 value\n",
        "at_val_100 = torch.tensor([[100.]], requires_grad=True)\n",
        "y_pred_at_100 = model(at_val_100)\n",
        "prediction_at_value_100 = y_pred_at_100.item()\n",
        "\n",
        "# Calculate the error\n",
        "true_value_at_100 = relationship(at_val_100).item()\n",
        "error_at_val_100 = true_value_at_100 - prediction_at_value_100\n",
        "\n",
        "print(f\"gradients: {gradients}\", f\"\\nweights: {weights}\", f\"\\nAt value 100: prediction: {prediction_at_value_100}\")\n",
        "print(f\"At value 100: True value: {true_value_at_100}\")\n",
        "print(f\"At value 100: Error: {error_at_val_100}\")\n"
      ],
      "metadata": {
        "colab": {
          "base_uri": "https://localhost:8080/"
        },
        "id": "zSv3VhVcmHRM",
        "outputId": "20576819-7333-4210-8ac5-8023c39bef53"
      },
      "execution_count": 29,
      "outputs": [
        {
          "output_type": "stream",
          "name": "stdout",
          "text": [
            "gradients: -2.0157108306884766 \n",
            "weights: -0.7207477688789368 \n",
            "At value 100: prediction: -71.16104888916016\n",
            "At value 100: True value: 1009899.0\n",
            "At value 100: Error: 1009970.1610488892\n"
          ]
        }
      ]
    },
    {
      "cell_type": "markdown",
      "source": [
        "**Task 3**"
      ],
      "metadata": {
        "id": "2MpgLC1wqHqr"
      }
    },
    {
      "cell_type": "code",
      "source": [
        "#Modified the Net_model class for activations\n",
        "class Net_model(nn.Module):\n",
        "    def __init__(self, activation):\n",
        "        super(Net_model, self).__init__()\n",
        "        self.fc = nn.Linear(1, 1)\n",
        "        self.activation = activation\n",
        "\n",
        "    def forward(self, x):\n",
        "        x = self.fc(x)\n",
        "        return self.activation(x)\n",
        "\n",
        "\n",
        "#different activation functions\n",
        "activations = [nn.ReLU(), nn.Tanh(), nn.Sigmoid()]\n",
        "\n",
        "for activation in activations:\n",
        "    model = Net_model(activation)\n",
        "    print(f\"\\nTraining with {activation.__class__.__name__} activation:\")\n",
        "\n",
        "    #different loss functions\n",
        "    losses = [nn.MSELoss(), nn.L1Loss()]\n",
        "\n",
        "    for loss_func in losses:\n",
        "\n",
        "        optimzr = optim.SGD(model.parameters(), lr=0.001)\n",
        "        print(f\"\\nLoss function: {loss_func.__class__.__name__}\")\n",
        "\n",
        "        #training starts here\n",
        "        epochs = 1000\n",
        "        for epoch in range(epochs):\n",
        "            x = torch.randn(1, requires_grad=True)\n",
        "            y_pred_val = model(x)\n",
        "            # calling relationship function\n",
        "            y_true_val = relationship(x)\n",
        "            loss = loss_func(y_pred_val, y_true_val)\n",
        "            optimzr.zero_grad()\n",
        "            loss.backward()\n",
        "            optimzr.step()\n",
        "\n",
        "        # predicting value at 100\n",
        "        x_100 = torch.tensor([[100.]], requires_grad=True)\n",
        "        y_pred_100 = model(x_100)\n",
        "        prediction_at_val_100 = y_pred_100.item()\n",
        "\n",
        "        #error calculation\n",
        "        true_value_at_100 = relationship(x_100).item()\n",
        "        error_at_100 = true_value_at_100 - prediction_at_val_100\n",
        "\n",
        "        print(f\"Prediction at 100: {prediction_at_val_100}\")\n",
        "        print(f\"True value at 100: {true_value_at_100}\")\n",
        "        print(f\"Error at 100: {error_at_100}\")"
      ],
      "metadata": {
        "colab": {
          "base_uri": "https://localhost:8080/"
        },
        "id": "HUJHEU70k-fW",
        "outputId": "c481cecf-1c0f-43e4-9aa4-95123fa2f536"
      },
      "execution_count": 46,
      "outputs": [
        {
          "output_type": "stream",
          "name": "stdout",
          "text": [
            "\n",
            "Training with ReLU activation:\n",
            "\n",
            "Loss function: MSELoss\n",
            "Prediction at 100: 0.3099159300327301\n",
            "True value at 100: 1009899.0\n",
            "Error at 100: 1009898.69008407\n",
            "\n",
            "Loss function: L1Loss\n",
            "Prediction at 100: 0.3099159300327301\n",
            "True value at 100: 1009899.0\n",
            "Error at 100: 1009898.69008407\n",
            "\n",
            "Training with Tanh activation:\n",
            "\n",
            "Loss function: MSELoss\n",
            "Prediction at 100: 1.0\n",
            "True value at 100: 1009899.0\n",
            "Error at 100: 1009898.0\n",
            "\n",
            "Loss function: L1Loss\n",
            "Prediction at 100: 1.0\n",
            "True value at 100: 1009899.0\n",
            "Error at 100: 1009898.0\n",
            "\n",
            "Training with Sigmoid activation:\n",
            "\n",
            "Loss function: MSELoss\n",
            "Prediction at 100: 0.5692905783653259\n",
            "True value at 100: 1009899.0\n",
            "Error at 100: 1009898.4307094216\n",
            "\n",
            "Loss function: L1Loss\n",
            "Prediction at 100: 0.9998823404312134\n",
            "True value at 100: 1009899.0\n",
            "Error at 100: 1009898.0001176596\n"
          ]
        }
      ]
    },
    {
      "cell_type": "markdown",
      "source": [
        "**Task 4**"
      ],
      "metadata": {
        "id": "KcJroQMHqFyX"
      }
    },
    {
      "cell_type": "code",
      "source": [
        "#transformations\n",
        "transform = transforms.Compose([\n",
        "    transforms.ToTensor(),\n",
        "    transforms.Normalize((0.5,), (0.5,))\n",
        "])\n",
        "\n",
        "#loading MNIST dataset\n",
        "training_set = torchvision.datasets.MNIST(root='./data', train=True, transform=transform, download=True)\n",
        "training_loader = torch.utils.data.DataLoader(training_set, batch_size=5, shuffle=True)\n",
        "\n",
        "class CNN(nn.Module):\n",
        "    def __init__(self):\n",
        "        super().__init__()\n",
        "        self.res = nn.Sequential(\n",
        "            nn.Conv2d(1, 32, kernel_size=3, padding=1),\n",
        "            nn.ReLU(),\n",
        "            nn.MaxPool2d(kernel_size=2, stride=2)\n",
        "        )\n",
        "        self.fc = nn.Linear(32 * 14 * 14, 10)\n",
        "\n",
        "    def forward(self, a):\n",
        "        a = self.res(a)\n",
        "        a = a.view(a.size(0), -1)\n",
        "        a = self.fc(a)\n",
        "        return a\n",
        "\n",
        "#model instance\n",
        "CNN_model = CNN()\n",
        "criterion = nn.CrossEntropyLoss()\n",
        "optimizer = optim.Adam(CNN_model.parameters(), lr=0.0001)\n",
        "# training\n",
        "for epoch in range(3):\n",
        "    epoch_loss = 0.0\n",
        "    for inputs, labels in training_loader:\n",
        "        #making gradients zero\n",
        "        optimizer.zero_grad()\n",
        "        outputs = CNN_model(inputs)\n",
        "        loss = criterion(outputs, labels)\n",
        "        #backward pass\n",
        "        loss.backward()\n",
        "        optimizer.step()\n",
        "        epoch_loss += loss.item()\n",
        "    print(\"Epoch {}, Loss: {:.4f}\".format(epoch + 1, epoch_loss / len(training_loader)))\n",
        "print('Training completed...')"
      ],
      "metadata": {
        "colab": {
          "base_uri": "https://localhost:8080/"
        },
        "id": "W2A3POeciz9M",
        "outputId": "9b471487-903e-449c-a974-10a6a0a16cea"
      },
      "execution_count": 31,
      "outputs": [
        {
          "output_type": "stream",
          "name": "stdout",
          "text": [
            "Epoch 1, Loss: 0.2470\n",
            "Epoch 2, Loss: 0.0993\n",
            "Epoch 3, Loss: 0.0742\n",
            "Training completed...\n"
          ]
        }
      ]
    },
    {
      "cell_type": "code",
      "source": [],
      "metadata": {
        "id": "kH_aGz-FjXzn"
      },
      "execution_count": null,
      "outputs": []
    }
  ]
}